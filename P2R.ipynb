{
 "cells": [
  {
   "cell_type": "code",
   "execution_count": 1,
   "metadata": {
    "ExecuteTime": {
     "end_time": "2024-04-22T21:11:30.011794Z",
     "start_time": "2024-04-22T21:11:30.006499Z"
    },
    "collapsed": false
   },
   "outputs": [
    {
     "name": "stdout",
     "output_type": "stream",
     "text": [
      "Python version\n",
      "3.8.19 (default, Mar 20 2024, 15:27:52) \n",
      "[Clang 14.0.6 ]\n",
      "Version info.\n",
      "sys.version_info(major=3, minor=8, micro=19, releaselevel='final', serial=0)\n"
     ]
    }
   ],
   "source": [
    "import sys\n",
    "\n",
    "print(\"Python version\")\n",
    "print(sys.version)\n",
    "print(\"Version info.\")\n",
    "print(sys.version_info)"
   ]
  },
  {
   "cell_type": "code",
   "execution_count": 20,
   "metadata": {
    "collapsed": false
   },
   "outputs": [],
   "source": [
    "# Notes: \n",
    "# #torch\n",
    "#!pip install transformers"
   ]
  },
  {
   "cell_type": "markdown",
   "metadata": {
    "collapsed": false
   },
   "source": [
    "# Plate2Recipe Project\n"
   ]
  },
  {
   "cell_type": "markdown",
   "metadata": {
    "collapsed": false
   },
   "source": [
    "## Data Collection and Preprocessing\n",
    "\n",
    "\n",
    "- Data loading: *use food-101.tar.gz for CNN and full_dataset.csv for NLP* (https://drive.google.com/drive/folders/1ui_zS11_ENZTCNLUsgg_UwAYr-ZaLbac)\n",
    "- Data cleaning\n",
    "- Data augmentation"
   ]
  },
  {
   "cell_type": "code",
   "execution_count": 2,
   "metadata": {
    "ExecuteTime": {
     "end_time": "2024-04-22T22:45:27.211698Z",
     "start_time": "2024-04-22T22:44:18.485527Z"
    },
    "collapsed": false
   },
   "outputs": [],
   "source": [
    "# CNN - Load and Transform Data\n",
    "\n",
    "from torchvision import datasets, transforms\n",
    "from torch.utils.data import DataLoader\n",
    "\n",
    "train_transforms = transforms.Compose([\n",
    "    transforms.RandomResizedCrop(224),\n",
    "    transforms.RandomHorizontalFlip(), \n",
    "    transforms.ToTensor(),\n",
    "    transforms.Normalize([0.485, 0.456, 0.406], [0.229, 0.224, 0.225])\n",
    "])\n",
    "\n",
    "valid_transforms = transforms.Compose([\n",
    "    transforms.CenterCrop(224),\n",
    "    transforms.ToTensor(),\n",
    "    transforms.Normalize([0.485, 0.456, 0.406], [0.229, 0.224, 0.225])\n",
    "])\n",
    "\n",
    "root_dir = './data/'\n",
    "\n",
    "train_dataset = datasets.Food101(root=root_dir, split='train', transform=train_transforms, download=True)\n",
    "valid_dataset = datasets.Food101(root=root_dir, split='test', transform=valid_transforms, download=True)\n",
    "\n",
    "train_loader = DataLoader(train_dataset, batch_size=32, shuffle=True)\n",
    "valid_loader = DataLoader(valid_dataset, batch_size=32, shuffle=False)"
   ]
  },
  {
   "cell_type": "code",
   "execution_count": 3,
   "metadata": {
    "ExecuteTime": {
     "end_time": "2024-04-23T03:41:46.078663Z",
     "start_time": "2024-04-23T03:41:18.607336Z"
    },
    "collapsed": false
   },
   "outputs": [
    {
     "data": {
      "text/html": [
       "<div>\n",
       "<style scoped>\n",
       "    .dataframe tbody tr th:only-of-type {\n",
       "        vertical-align: middle;\n",
       "    }\n",
       "\n",
       "    .dataframe tbody tr th {\n",
       "        vertical-align: top;\n",
       "    }\n",
       "\n",
       "    .dataframe thead th {\n",
       "        text-align: right;\n",
       "    }\n",
       "</style>\n",
       "<table border=\"1\" class=\"dataframe\">\n",
       "  <thead>\n",
       "    <tr style=\"text-align: right;\">\n",
       "      <th></th>\n",
       "      <th>title</th>\n",
       "      <th>ingredients</th>\n",
       "      <th>directions</th>\n",
       "      <th>link</th>\n",
       "      <th>source</th>\n",
       "      <th>NER</th>\n",
       "    </tr>\n",
       "  </thead>\n",
       "  <tbody>\n",
       "    <tr>\n",
       "      <th>0</th>\n",
       "      <td>No-Bake Nut Cookies</td>\n",
       "      <td>[\"1 c. firmly packed brown sugar\", \"1/2 c. eva...</td>\n",
       "      <td>[\"In a heavy 2-quart saucepan, mix brown sugar...</td>\n",
       "      <td>www.cookbooks.com/Recipe-Details.aspx?id=44874</td>\n",
       "      <td>Gathered</td>\n",
       "      <td>[\"brown sugar\", \"milk\", \"vanilla\", \"nuts\", \"bu...</td>\n",
       "    </tr>\n",
       "    <tr>\n",
       "      <th>1</th>\n",
       "      <td>Jewell Ball'S Chicken</td>\n",
       "      <td>[\"1 small jar chipped beef, cut up\", \"4 boned ...</td>\n",
       "      <td>[\"Place chipped beef on bottom of baking dish....</td>\n",
       "      <td>www.cookbooks.com/Recipe-Details.aspx?id=699419</td>\n",
       "      <td>Gathered</td>\n",
       "      <td>[\"beef\", \"chicken breasts\", \"cream of mushroom...</td>\n",
       "    </tr>\n",
       "    <tr>\n",
       "      <th>2</th>\n",
       "      <td>Creamy Corn</td>\n",
       "      <td>[\"2 (16 oz.) pkg. frozen corn\", \"1 (8 oz.) pkg...</td>\n",
       "      <td>[\"In a slow cooker, combine all ingredients. C...</td>\n",
       "      <td>www.cookbooks.com/Recipe-Details.aspx?id=10570</td>\n",
       "      <td>Gathered</td>\n",
       "      <td>[\"frozen corn\", \"cream cheese\", \"butter\", \"gar...</td>\n",
       "    </tr>\n",
       "    <tr>\n",
       "      <th>3</th>\n",
       "      <td>Chicken Funny</td>\n",
       "      <td>[\"1 large whole chicken\", \"2 (10 1/2 oz.) cans...</td>\n",
       "      <td>[\"Boil and debone chicken.\", \"Put bite size pi...</td>\n",
       "      <td>www.cookbooks.com/Recipe-Details.aspx?id=897570</td>\n",
       "      <td>Gathered</td>\n",
       "      <td>[\"chicken\", \"chicken gravy\", \"cream of mushroo...</td>\n",
       "    </tr>\n",
       "    <tr>\n",
       "      <th>4</th>\n",
       "      <td>Reeses Cups(Candy)</td>\n",
       "      <td>[\"1 c. peanut butter\", \"3/4 c. graham cracker ...</td>\n",
       "      <td>[\"Combine first four ingredients and press in ...</td>\n",
       "      <td>www.cookbooks.com/Recipe-Details.aspx?id=659239</td>\n",
       "      <td>Gathered</td>\n",
       "      <td>[\"peanut butter\", \"graham cracker crumbs\", \"bu...</td>\n",
       "    </tr>\n",
       "    <tr>\n",
       "      <th>5</th>\n",
       "      <td>Cheeseburger Potato Soup</td>\n",
       "      <td>[\"6 baking potatoes\", \"1 lb. of extra lean gro...</td>\n",
       "      <td>[\"Wash potatoes; prick several times with a fo...</td>\n",
       "      <td>www.cookbooks.com/Recipe-Details.aspx?id=20115</td>\n",
       "      <td>Gathered</td>\n",
       "      <td>[\"baking potatoes\", \"extra lean ground beef\", ...</td>\n",
       "    </tr>\n",
       "    <tr>\n",
       "      <th>6</th>\n",
       "      <td>Rhubarb Coffee Cake</td>\n",
       "      <td>[\"1 1/2 c. sugar\", \"1/2 c. butter\", \"1 egg\", \"...</td>\n",
       "      <td>[\"Cream sugar and butter.\", \"Add egg and beat ...</td>\n",
       "      <td>www.cookbooks.com/Recipe-Details.aspx?id=210288</td>\n",
       "      <td>Gathered</td>\n",
       "      <td>[\"sugar\", \"butter\", \"egg\", \"buttermilk\", \"flou...</td>\n",
       "    </tr>\n",
       "    <tr>\n",
       "      <th>7</th>\n",
       "      <td>Scalloped Corn</td>\n",
       "      <td>[\"1 can cream-style corn\", \"1 can whole kernel...</td>\n",
       "      <td>[\"Mix together both cans of corn, crackers, eg...</td>\n",
       "      <td>www.cookbooks.com/Recipe-Details.aspx?id=876969</td>\n",
       "      <td>Gathered</td>\n",
       "      <td>[\"cream-style corn\", \"whole kernel corn\", \"cra...</td>\n",
       "    </tr>\n",
       "    <tr>\n",
       "      <th>8</th>\n",
       "      <td>Nolan'S Pepper Steak</td>\n",
       "      <td>[\"1 1/2 lb. round steak (1-inch thick), cut in...</td>\n",
       "      <td>[\"Roll steak strips in flour.\", \"Brown in skil...</td>\n",
       "      <td>www.cookbooks.com/Recipe-Details.aspx?id=375254</td>\n",
       "      <td>Gathered</td>\n",
       "      <td>[\"tomatoes\", \"water\", \"onions\", \"Worcestershir...</td>\n",
       "    </tr>\n",
       "    <tr>\n",
       "      <th>9</th>\n",
       "      <td>Millionaire Pie</td>\n",
       "      <td>[\"1 large container Cool Whip\", \"1 large can c...</td>\n",
       "      <td>[\"Empty Cool Whip into a bowl.\", \"Drain juice ...</td>\n",
       "      <td>www.cookbooks.com/Recipe-Details.aspx?id=794547</td>\n",
       "      <td>Gathered</td>\n",
       "      <td>[\"pineapple\", \"condensed milk\", \"lemons\", \"pec...</td>\n",
       "    </tr>\n",
       "    <tr>\n",
       "      <th>10</th>\n",
       "      <td>Double Cherry Delight</td>\n",
       "      <td>[\"1 (17 oz.) can dark sweet pitted cherries\", ...</td>\n",
       "      <td>[\"Drain cherries, measuring syrup.\", \"Cut cher...</td>\n",
       "      <td>www.cookbooks.com/Recipe-Details.aspx?id=703381</td>\n",
       "      <td>Gathered</td>\n",
       "      <td>[\"dark sweet pitted cherries\", \"ginger ale\", \"...</td>\n",
       "    </tr>\n",
       "    <tr>\n",
       "      <th>11</th>\n",
       "      <td>Buckeye Candy</td>\n",
       "      <td>[\"1 box powdered sugar\", \"8 oz. soft butter\", ...</td>\n",
       "      <td>[\"Mix sugar, butter and peanut butter.\", \"Roll...</td>\n",
       "      <td>www.cookbooks.com/Recipe-Details.aspx?id=886785</td>\n",
       "      <td>Gathered</td>\n",
       "      <td>[\"powdered sugar\", \"butter\", \"peanut butter\", ...</td>\n",
       "    </tr>\n",
       "    <tr>\n",
       "      <th>12</th>\n",
       "      <td>Quick Barbecue Wings</td>\n",
       "      <td>[\"chicken wings (as many as you need for dinne...</td>\n",
       "      <td>[\"Clean wings.\", \"Flour and fry until done.\", ...</td>\n",
       "      <td>www.cookbooks.com/Recipe-Details.aspx?id=768311</td>\n",
       "      <td>Gathered</td>\n",
       "      <td>[\"chicken\", \"flour\", \"barbecue sauce\"]</td>\n",
       "    </tr>\n",
       "    <tr>\n",
       "      <th>13</th>\n",
       "      <td>Taco Salad Chip Dip</td>\n",
       "      <td>[\"8 oz. Ortega taco sauce\", \"8 oz. sour cream\"...</td>\n",
       "      <td>[\"Mix taco sauce, sour cream and cream cheese....</td>\n",
       "      <td>www.cookbooks.com/Recipe-Details.aspx?id=806409</td>\n",
       "      <td>Gathered</td>\n",
       "      <td>[\"taco sauce\", \"sour cream\", \"cream cheese\", \"...</td>\n",
       "    </tr>\n",
       "    <tr>\n",
       "      <th>14</th>\n",
       "      <td>Pink Stuff(Frozen Dessert)</td>\n",
       "      <td>[\"1 can pie filling (cherry or strawberry)\", \"...</td>\n",
       "      <td>[\"Mix all ingredients together.\", \"Pour into a...</td>\n",
       "      <td>www.cookbooks.com/Recipe-Details.aspx?id=982483</td>\n",
       "      <td>Gathered</td>\n",
       "      <td>[\"pie filling\", \"pineapple\", \"condensed milk\",...</td>\n",
       "    </tr>\n",
       "    <tr>\n",
       "      <th>15</th>\n",
       "      <td>Fresh Strawberry Pie</td>\n",
       "      <td>[\"1 baked pie shell\", \"1 qt. cleaned strawberr...</td>\n",
       "      <td>[\"Mix water, cornstarch, sugar and salt in sau...</td>\n",
       "      <td>www.cookbooks.com/Recipe-Details.aspx?id=161321</td>\n",
       "      <td>Gathered</td>\n",
       "      <td>[\"shell\", \"cleaned strawberries\", \"water\", \"co...</td>\n",
       "    </tr>\n",
       "    <tr>\n",
       "      <th>16</th>\n",
       "      <td>Easy German Chocolate Cake</td>\n",
       "      <td>[\"1/2 pkg. chocolate fudge cake mix without pu...</td>\n",
       "      <td>[\"Mix according to directions and add oil.\", \"...</td>\n",
       "      <td>www.cookbooks.com/Recipe-Details.aspx?id=983179</td>\n",
       "      <td>Gathered</td>\n",
       "      <td>[\"chocolate fudge cake\", \"white cake\", \"Wesson...</td>\n",
       "    </tr>\n",
       "    <tr>\n",
       "      <th>17</th>\n",
       "      <td>Broccoli Salad</td>\n",
       "      <td>[\"1 large head broccoli (about 1 1/2 lb.)\", \"1...</td>\n",
       "      <td>[\"Trim off large leaves of broccoli and remove...</td>\n",
       "      <td>www.cookbooks.com/Recipe-Details.aspx?id=50992</td>\n",
       "      <td>Gathered</td>\n",
       "      <td>[\"broccoli\", \"bacon\", \"green onions\", \"raisins...</td>\n",
       "    </tr>\n",
       "    <tr>\n",
       "      <th>18</th>\n",
       "      <td>Strawberry Whatever</td>\n",
       "      <td>[\"1 lb. frozen strawberries in juice\", \"1 smal...</td>\n",
       "      <td>[\"Mix Jell-O in boiling water.\", \"Add strawber...</td>\n",
       "      <td>www.cookbooks.com/Recipe-Details.aspx?id=718063</td>\n",
       "      <td>Gathered</td>\n",
       "      <td>[\"frozen strawberries\", \"pineapple\", \"bananas\"...</td>\n",
       "    </tr>\n",
       "    <tr>\n",
       "      <th>19</th>\n",
       "      <td>Eggless Milkless Applesauce Cake</td>\n",
       "      <td>[\"3/4 c. sugar\", \"1/2 c. shortening\", \"1 1/2 c...</td>\n",
       "      <td>[\"Mix Crisco with applesauce, nuts and raisins...</td>\n",
       "      <td>www.cookbooks.com/Recipe-Details.aspx?id=343158</td>\n",
       "      <td>Gathered</td>\n",
       "      <td>[\"sugar\", \"shortening\", \"applesauce\", \"soda\", ...</td>\n",
       "    </tr>\n",
       "  </tbody>\n",
       "</table>\n",
       "</div>"
      ],
      "text/plain": [
       "                               title  \\\n",
       "0                No-Bake Nut Cookies   \n",
       "1              Jewell Ball'S Chicken   \n",
       "2                        Creamy Corn   \n",
       "3                      Chicken Funny   \n",
       "4               Reeses Cups(Candy)     \n",
       "5           Cheeseburger Potato Soup   \n",
       "6                Rhubarb Coffee Cake   \n",
       "7                     Scalloped Corn   \n",
       "8               Nolan'S Pepper Steak   \n",
       "9                    Millionaire Pie   \n",
       "10             Double Cherry Delight   \n",
       "11                     Buckeye Candy   \n",
       "12              Quick Barbecue Wings   \n",
       "13               Taco Salad Chip Dip   \n",
       "14      Pink Stuff(Frozen Dessert)     \n",
       "15              Fresh Strawberry Pie   \n",
       "16        Easy German Chocolate Cake   \n",
       "17                    Broccoli Salad   \n",
       "18               Strawberry Whatever   \n",
       "19  Eggless Milkless Applesauce Cake   \n",
       "\n",
       "                                          ingredients  \\\n",
       "0   [\"1 c. firmly packed brown sugar\", \"1/2 c. eva...   \n",
       "1   [\"1 small jar chipped beef, cut up\", \"4 boned ...   \n",
       "2   [\"2 (16 oz.) pkg. frozen corn\", \"1 (8 oz.) pkg...   \n",
       "3   [\"1 large whole chicken\", \"2 (10 1/2 oz.) cans...   \n",
       "4   [\"1 c. peanut butter\", \"3/4 c. graham cracker ...   \n",
       "5   [\"6 baking potatoes\", \"1 lb. of extra lean gro...   \n",
       "6   [\"1 1/2 c. sugar\", \"1/2 c. butter\", \"1 egg\", \"...   \n",
       "7   [\"1 can cream-style corn\", \"1 can whole kernel...   \n",
       "8   [\"1 1/2 lb. round steak (1-inch thick), cut in...   \n",
       "9   [\"1 large container Cool Whip\", \"1 large can c...   \n",
       "10  [\"1 (17 oz.) can dark sweet pitted cherries\", ...   \n",
       "11  [\"1 box powdered sugar\", \"8 oz. soft butter\", ...   \n",
       "12  [\"chicken wings (as many as you need for dinne...   \n",
       "13  [\"8 oz. Ortega taco sauce\", \"8 oz. sour cream\"...   \n",
       "14  [\"1 can pie filling (cherry or strawberry)\", \"...   \n",
       "15  [\"1 baked pie shell\", \"1 qt. cleaned strawberr...   \n",
       "16  [\"1/2 pkg. chocolate fudge cake mix without pu...   \n",
       "17  [\"1 large head broccoli (about 1 1/2 lb.)\", \"1...   \n",
       "18  [\"1 lb. frozen strawberries in juice\", \"1 smal...   \n",
       "19  [\"3/4 c. sugar\", \"1/2 c. shortening\", \"1 1/2 c...   \n",
       "\n",
       "                                           directions  \\\n",
       "0   [\"In a heavy 2-quart saucepan, mix brown sugar...   \n",
       "1   [\"Place chipped beef on bottom of baking dish....   \n",
       "2   [\"In a slow cooker, combine all ingredients. C...   \n",
       "3   [\"Boil and debone chicken.\", \"Put bite size pi...   \n",
       "4   [\"Combine first four ingredients and press in ...   \n",
       "5   [\"Wash potatoes; prick several times with a fo...   \n",
       "6   [\"Cream sugar and butter.\", \"Add egg and beat ...   \n",
       "7   [\"Mix together both cans of corn, crackers, eg...   \n",
       "8   [\"Roll steak strips in flour.\", \"Brown in skil...   \n",
       "9   [\"Empty Cool Whip into a bowl.\", \"Drain juice ...   \n",
       "10  [\"Drain cherries, measuring syrup.\", \"Cut cher...   \n",
       "11  [\"Mix sugar, butter and peanut butter.\", \"Roll...   \n",
       "12  [\"Clean wings.\", \"Flour and fry until done.\", ...   \n",
       "13  [\"Mix taco sauce, sour cream and cream cheese....   \n",
       "14  [\"Mix all ingredients together.\", \"Pour into a...   \n",
       "15  [\"Mix water, cornstarch, sugar and salt in sau...   \n",
       "16  [\"Mix according to directions and add oil.\", \"...   \n",
       "17  [\"Trim off large leaves of broccoli and remove...   \n",
       "18  [\"Mix Jell-O in boiling water.\", \"Add strawber...   \n",
       "19  [\"Mix Crisco with applesauce, nuts and raisins...   \n",
       "\n",
       "                                               link    source  \\\n",
       "0    www.cookbooks.com/Recipe-Details.aspx?id=44874  Gathered   \n",
       "1   www.cookbooks.com/Recipe-Details.aspx?id=699419  Gathered   \n",
       "2    www.cookbooks.com/Recipe-Details.aspx?id=10570  Gathered   \n",
       "3   www.cookbooks.com/Recipe-Details.aspx?id=897570  Gathered   \n",
       "4   www.cookbooks.com/Recipe-Details.aspx?id=659239  Gathered   \n",
       "5    www.cookbooks.com/Recipe-Details.aspx?id=20115  Gathered   \n",
       "6   www.cookbooks.com/Recipe-Details.aspx?id=210288  Gathered   \n",
       "7   www.cookbooks.com/Recipe-Details.aspx?id=876969  Gathered   \n",
       "8   www.cookbooks.com/Recipe-Details.aspx?id=375254  Gathered   \n",
       "9   www.cookbooks.com/Recipe-Details.aspx?id=794547  Gathered   \n",
       "10  www.cookbooks.com/Recipe-Details.aspx?id=703381  Gathered   \n",
       "11  www.cookbooks.com/Recipe-Details.aspx?id=886785  Gathered   \n",
       "12  www.cookbooks.com/Recipe-Details.aspx?id=768311  Gathered   \n",
       "13  www.cookbooks.com/Recipe-Details.aspx?id=806409  Gathered   \n",
       "14  www.cookbooks.com/Recipe-Details.aspx?id=982483  Gathered   \n",
       "15  www.cookbooks.com/Recipe-Details.aspx?id=161321  Gathered   \n",
       "16  www.cookbooks.com/Recipe-Details.aspx?id=983179  Gathered   \n",
       "17   www.cookbooks.com/Recipe-Details.aspx?id=50992  Gathered   \n",
       "18  www.cookbooks.com/Recipe-Details.aspx?id=718063  Gathered   \n",
       "19  www.cookbooks.com/Recipe-Details.aspx?id=343158  Gathered   \n",
       "\n",
       "                                                  NER  \n",
       "0   [\"brown sugar\", \"milk\", \"vanilla\", \"nuts\", \"bu...  \n",
       "1   [\"beef\", \"chicken breasts\", \"cream of mushroom...  \n",
       "2   [\"frozen corn\", \"cream cheese\", \"butter\", \"gar...  \n",
       "3   [\"chicken\", \"chicken gravy\", \"cream of mushroo...  \n",
       "4   [\"peanut butter\", \"graham cracker crumbs\", \"bu...  \n",
       "5   [\"baking potatoes\", \"extra lean ground beef\", ...  \n",
       "6   [\"sugar\", \"butter\", \"egg\", \"buttermilk\", \"flou...  \n",
       "7   [\"cream-style corn\", \"whole kernel corn\", \"cra...  \n",
       "8   [\"tomatoes\", \"water\", \"onions\", \"Worcestershir...  \n",
       "9   [\"pineapple\", \"condensed milk\", \"lemons\", \"pec...  \n",
       "10  [\"dark sweet pitted cherries\", \"ginger ale\", \"...  \n",
       "11  [\"powdered sugar\", \"butter\", \"peanut butter\", ...  \n",
       "12             [\"chicken\", \"flour\", \"barbecue sauce\"]  \n",
       "13  [\"taco sauce\", \"sour cream\", \"cream cheese\", \"...  \n",
       "14  [\"pie filling\", \"pineapple\", \"condensed milk\",...  \n",
       "15  [\"shell\", \"cleaned strawberries\", \"water\", \"co...  \n",
       "16  [\"chocolate fudge cake\", \"white cake\", \"Wesson...  \n",
       "17  [\"broccoli\", \"bacon\", \"green onions\", \"raisins...  \n",
       "18  [\"frozen strawberries\", \"pineapple\", \"bananas\"...  \n",
       "19  [\"sugar\", \"shortening\", \"applesauce\", \"soda\", ...  "
      ]
     },
     "execution_count": 3,
     "metadata": {},
     "output_type": "execute_result"
    }
   ],
   "source": [
    "# NLP - Load data\n",
    "\n",
    "import pandas as pd\n",
    "\n",
    "recipes = pd.read_csv('./data/full_dataset.csv', encoding='UTF-8')\n",
    "recipes = recipes.drop(recipes.columns[0], axis=1)\n",
    "recipes.head(20)"
   ]
  },
  {
   "cell_type": "markdown",
   "metadata": {
    "collapsed": false
   },
   "source": [
    "## Model Development\n",
    "- CNN for Image Processing\n",
    "- NLP for Recipe Generation\n"
   ]
  },
  {
   "cell_type": "markdown",
   "metadata": {},
   "source": [
    "### CNN Model\n",
    "- Assume an input image, generate the list of ingredients from the image"
   ]
  },
  {
   "cell_type": "code",
   "execution_count": 2,
   "metadata": {},
   "outputs": [
    {
     "name": "stderr",
     "output_type": "stream",
     "text": [
      "/Users/ericconnelly/miniconda3/envs/p2r/lib/python3.8/site-packages/torchvision/models/_utils.py:208: UserWarning: The parameter 'pretrained' is deprecated since 0.13 and may be removed in the future, please use 'weights' instead.\n",
      "  warnings.warn(\n",
      "/Users/ericconnelly/miniconda3/envs/p2r/lib/python3.8/site-packages/torchvision/models/_utils.py:223: UserWarning: Arguments other than a weight enum or `None` for 'weights' are deprecated since 0.13 and may be removed in the future. The current behavior is equivalent to passing `weights=ResNet50_Weights.IMAGENET1K_V1`. You can also use `weights=ResNet50_Weights.DEFAULT` to get the most up-to-date weights.\n",
      "  warnings.warn(msg)\n",
      "/Users/ericconnelly/miniconda3/envs/p2r/lib/python3.8/site-packages/torch/nn/_reduction.py:42: UserWarning: size_average and reduce args will be deprecated, please use reduction='none' instead.\n",
      "  warnings.warn(warning.format(ret))\n"
     ]
    },
    {
     "name": "stdout",
     "output_type": "stream",
     "text": [
      "title  ['Beef shank simmered in tomato sauce', 'Simple tomato spaghetti sauce']\n",
      "ingredients  [['onion', 'pepper', 'oil', 'tomato', 'clove', 'salt', 'beef', 'parsley', 'stock', 'wine'], ['onion', 'pepper', 'oil', 'tomato', 'clove', 'salt', 'beef', 'parsley', 'stock', 'wine']]\n",
      "recipe  [['Cut the onion into thin wedges.', 'Heat olive oil in a pan and saute the onion and garlic.', 'When the onion becomes translucent, add the beef and fry.', 'When the beef is browned, add the tomato paste and cook.', 'Add the wine and simmer.', 'Add the soup stock cube and simmer for about 10 minutes.', 'Add the parsley and season with salt and pepper.'], ['Mince onion and garlic.', 'Heat olive oil in a frying pan and add garlic.', \"Stir to make sure garlic does n't burn.\", 'Add ground meat and cook over a high heat, breaking up the meat.', 'When the meat is evenly browned, add onions and cook until soft.', 'Add tomato paste and continue to cook over low heat for a while.', 'Add wine and boil, uncovered, for 20 minutes.', 'Add stock and parsley.', 'Mix thoroughly and season with salt and pepper.']]\n"
     ]
    }
   ],
   "source": [
    "import matplotlib.pyplot as plt\n",
    "import torch\n",
    "import torch.nn as nn\n",
    "import numpy as np\n",
    "import os\n",
    "import pickle\n",
    "from torchvision import transforms\n",
    "from PIL import Image\n",
    "import time\n",
    "from tensorflow.keras.preprocessing import image\n",
    "from utils import prepare_output\n",
    "\n",
    "data_dir= './data/'\n",
    "\n",
    "use_gpu = True\n",
    "device = torch.device('cuda' if torch.cuda.is_available() and use_gpu else 'cpu')\n",
    "map_loc = None if torch.cuda.is_available() and use_gpu else 'cpu'\n",
    "\n",
    "ingrs_vocab = pickle.load(open(os.path.join(data_dir, 'ingr_vocab.pkl'), 'rb'))\n",
    "vocab = pickle.load(open(os.path.join(data_dir, 'instr_vocab.pkl'), 'rb'))\n",
    "\n",
    "ingr_vocab_size = len(ingrs_vocab)\n",
    "instrs_vocab_size = len(vocab)\n",
    "output_dim = instrs_vocab_size\n",
    "\n",
    "t = time.time()\n",
    "import sys; sys.argv=['']; del sys\n",
    "args = {\n",
    "    'save_dir': 'path/to/save/models',\n",
    "    'project_name':'inversecooking',\n",
    "    'model_name':'model',\n",
    "    'transfer_from':'',\n",
    "    'suff':'',\n",
    "    'image_model':'resnet50',\n",
    "    'recipe1m_dir':'path/to/recipe1m',\n",
    "    'aux_data_dir':'../data',\n",
    "    'crop_size':224,\n",
    "    'image_size':256,\n",
    "    'log_step':10,\n",
    "    'learning_rate':0.001,\n",
    "    'scale_learning_rate_cnn':0.01,\n",
    "    'lr_decay_rate':0.99,\n",
    "    'lr_decay_every':1, \n",
    "    'weight_decay':0.0,\n",
    "    'embed_size':512,\n",
    "    'n_att':8,\n",
    "    'n_att_ingrs':4,\n",
    "    'transf_layers': 16,\n",
    "    'transf_layers_ingrs': 4,\n",
    "    'num_epochs': 400,\n",
    "    'batch_size': 128,\n",
    "    'num_workers': 8,\n",
    "    'dropout_encoder': 0.3,\n",
    "    'dropout_decoder_r': 0.3,\n",
    "    'dropout_decoder_i':0.3,\n",
    "    'finetune_after': -1,\n",
    "    'loss_weight': [1.0, 0.0, 0.0, 0.0],\n",
    "    'max_eval': 4096,\n",
    "    'label_smoothing_ingr': 0.1,\n",
    "    'patience':50,\n",
    "    'maxseqlen':15,\n",
    "    'maxnuminstrs':10,\n",
    "    'maxnumims':5,\n",
    "    'maxnumlabels':20,\n",
    "    'es_metric':'loss',\n",
    "    'eval_split':'val',\n",
    "    'numgens': 3,\n",
    "    'greedy': False,\n",
    "    'temperature': 1.0,\n",
    "    'beam': -1,\n",
    "    'ingrs_only':False,\n",
    "    'recipe_only': False,\n",
    "    'log_term': False,\n",
    "    'tensorboard': True,\n",
    "    'resume': False,\n",
    "    'decay_lr': True,\n",
    "    'use_lmdb': True,\n",
    "    'get_perplexity': False, \n",
    "    'use_true_ingrs': False\n",
    "}\n",
    "\n",
    "\n",
    "from model import get_model\n",
    "model=get_model(args, ingr_vocab_size, instrs_vocab_size)\n",
    "\n",
    "# Load the pre-trained model parameters\n",
    "model_path = os.path.join(data_dir, 'modelbest.ckpt')\n",
    "model.load_state_dict(torch.load(model_path, map_location=map_loc))\n",
    "model.to(device)\n",
    "model.eval()\n",
    "model.ingrs_only = False\n",
    "model.recipe_only = False\n",
    "\n",
    "transf_list_batch = []\n",
    "transf_list_batch.append(transforms.ToTensor())\n",
    "transf_list_batch.append(transforms.Normalize((0.485, 0.456, 0.406), \n",
    "                                            (0.229, 0.224, 0.225)))\n",
    "to_input_transf = transforms.Compose(transf_list_batch)\n",
    "\n",
    "greedy = [True, False]\n",
    "beam = [-1, -1]\n",
    "temperature = 1.0\n",
    "numgens = len(greedy)\n",
    "img=image.load_img(data_dir + 'food-101/images/spaghetti_bolognese/51063.jpg')\n",
    "\n",
    "show_anyways = False #if True, it will show the recipe even if it's not valid\n",
    "transf_list = []\n",
    "transf_list.append(transforms.Resize(256))\n",
    "transf_list.append(transforms.CenterCrop(224))\n",
    "transform = transforms.Compose(transf_list)\n",
    "\n",
    "image_transf = transform(img)\n",
    "image_tensor = to_input_transf(image_transf).unsqueeze(0).to(device)\n",
    "\n",
    "num_valid = 1\n",
    "title=[]\n",
    "ingredients=[]\n",
    "recipe=[]\n",
    "for i in range(numgens):\n",
    "    with torch.no_grad():\n",
    "        outputs = model.sample(image_tensor, greedy=greedy[i], \n",
    "                            temperature=temperature, beam=beam[i], true_ingrs=None)\n",
    "            \n",
    "    ingr_ids = outputs['ingr_ids'].cpu().numpy()\n",
    "    recipe_ids = outputs['recipe_ids'].cpu().numpy()\n",
    "            \n",
    "    outs, valid = prepare_output(recipe_ids[0], ingr_ids[0], ingrs_vocab, vocab)\n",
    "        \n",
    "    if valid['is_valid'] or show_anyways:  \n",
    "        title.append(outs['title'])\n",
    "        ingredients.append(outs['ingrs'])\n",
    "        recipe.append(outs['recipe'])\n",
    "    else:\n",
    "        title.append(\"Not a valid recipe!\")\n",
    "        recipe.append(\"Reason: \"+valid['reason'])\n",
    "\n",
    "print('title ', title)\n",
    "print('ingredients ', ingredients)\n",
    "print('recipe ', recipe)\n",
    "\n"
   ]
  },
  {
   "cell_type": "code",
   "execution_count": 28,
   "metadata": {},
   "outputs": [
    {
     "name": "stderr",
     "output_type": "stream",
     "text": [
      "UsageError: Line magic function `%python` not found (But cell magic `%%python` exists, did you mean that instead?).\n"
     ]
    }
   ],
   "source": []
  },
  {
   "cell_type": "code",
   "execution_count": 27,
   "metadata": {},
   "outputs": [
    {
     "name": "stderr",
     "output_type": "stream",
     "text": [
      "UsageError: Line magic function `%python` not found (But cell magic `%%python` exists, did you mean that instead?).\n"
     ]
    }
   ],
   "source": [
    "%python train.py"
   ]
  },
  {
   "cell_type": "code",
   "execution_count": null,
   "metadata": {},
   "outputs": [],
   "source": []
  },
  {
   "cell_type": "markdown",
   "metadata": {
    "collapsed": false
   },
   "source": [
    "### NLP Model\n",
    "- Assume list of ingredients is provided, we can use this to generate the recipe. \n",
    "- Match input list of ingredients with the ingredients in the dataset and generate the recipe\n",
    "- Approaches:\n",
    "        -- Best Matching using Cosine Similarity: The chosen recipe will be the one with the highest similarity score\n",
    "        -- GPT2 model\n",
    "        -- ..."
   ]
  },
  {
   "cell_type": "code",
   "execution_count": 60,
   "metadata": {
    "ExecuteTime": {
     "end_time": "2024-04-23T02:47:13.855199Z",
     "start_time": "2024-04-23T02:47:13.851482Z"
    },
    "collapsed": false
   },
   "outputs": [],
   "source": [
    "# Assume 'user_ingredients' list is already defined\n",
    "user_ingredients = ['chicken', 'onion', 'pepper']"
   ]
  },
  {
   "cell_type": "markdown",
   "metadata": {
    "collapsed": false
   },
   "source": [
    "- #### Using TF-IDF for vectorization & cosine similarity for best matching"
   ]
  },
  {
   "cell_type": "code",
   "execution_count": 61,
   "metadata": {
    "ExecuteTime": {
     "end_time": "2024-04-23T02:48:03.850175Z",
     "start_time": "2024-04-23T02:47:21.613933Z"
    },
    "collapsed": false
   },
   "outputs": [
    {
     "name": "stdout",
     "output_type": "stream",
     "text": [
      "Best Matching Recipe: My Chopped Chicken Liver\n",
      "Ingredients: [\"1 lb chicken liver\", \"3 tablespoons chicken fat (SHMALTZ)\", \"1 onion, diced\", \"3 hard-boiled eggs, chopped\", \"salt\", \"pepper\", \"onion powder\", \"garlic powder\"]\n",
      "Directions: [\"In microwave, cook chicken livers and fat until done, about 5 minutes (use a pie dish).\", \"Remove livers with a slotted spoon, add onions and microwave until cooked, about 3 minutes.\", \"Meanwhile hard boil eggs in saucepan until done.\", \"Add livers, fat and onions to food processor; pulse until all ingredients are chopped fine.\", \"Mash eggs and add seasoning.\", \"Add liver mixture to egg mixture.\", \"Serve chopped liver on greens, surrounded by tomatoes, and lettuce.\", \"Serve with toast points or crackers.\"]\n"
     ]
    }
   ],
   "source": [
    "# using TF-IDF for vectorization and cosine similarity for matching\n",
    "\n",
    "from sklearn.feature_extraction.text import TfidfVectorizer\n",
    "from sklearn.metrics.pairwise import cosine_similarity\n",
    "\n",
    "\n",
    "# Preprocess data:\n",
    "def preprocess(ingredients):\n",
    "    return [' '.join(eval(ing)).lower().replace('[^a-z\\s]', '') for ing in ingredients]\n",
    "\n",
    "# VECTORIZE\n",
    "vectorizer = TfidfVectorizer()\n",
    "\n",
    "# Vectorize ingredients: \n",
    "recipe_ingredients = preprocess(recipes['NER'])\n",
    "recipe_tfidf = vectorizer.fit_transform(recipe_ingredients)\n",
    "\n",
    "# Vectorize user ingredients:\n",
    "user_ingredients_string = ' '.join(user_ingredients).lower()\n",
    "user_tfidf = vectorizer.transform([user_ingredients_string])\n",
    "\n",
    "\n",
    "# COMPUTE COSINE SIMILARITY\n",
    "similarity_scores = cosine_similarity(user_tfidf, recipe_tfidf)\n",
    "\n",
    "# Select the best matching recipe\n",
    "best_match_index = similarity_scores.argmax()\n",
    "best_recipe = recipes.iloc[best_match_index]\n",
    "\n",
    "print(\"Best Matching Recipe:\", best_recipe['title'])\n",
    "print(\"Ingredients:\", best_recipe['ingredients'])\n",
    "print(\"Directions:\", best_recipe['directions'])"
   ]
  },
  {
   "cell_type": "markdown",
   "metadata": {
    "collapsed": false
   },
   "source": [
    "- #### Using GPT-2: \n",
    "This approach combines traditional NLP techniques for ingredient matching with advanced language generation capabilities of GPT-2\n"
   ]
  },
  {
   "cell_type": "code",
   "execution_count": 64,
   "metadata": {
    "ExecuteTime": {
     "end_time": "2024-04-23T03:22:23.727685Z",
     "start_time": "2024-04-23T03:22:14.012220Z"
    },
    "collapsed": false
   },
   "outputs": [
    {
     "name": "stderr",
     "output_type": "stream",
     "text": [
      "The attention mask and the pad token id were not set. As a consequence, you may observe unexpected behavior. Please pass your input's `attention_mask` to obtain reliable results.\n",
      "Setting `pad_token_id` to `eos_token_id`:50256 for open-end generation.\n"
     ]
    },
    {
     "name": "stdout",
     "output_type": "stream",
     "text": [
      "Ingredients: chicken, onion, pepper; Recipe: My Chopped Chicken Liver - Directions: Preheat oven to 350 degrees F. Line a baking sheet with parchment paper and set aside. In a large bowl, whisk together the olive oil, salt, and pepper. Add the chicken mixture to the dry ingredients and mix well. Pour the mixture into the prepared baking dish and bake for 20-25 minutes, or until golden brown. Remove from the oven and allow to cool completely before serving.\n"
     ]
    }
   ],
   "source": [
    "# Use GPT-2 to generate a Recipe\n",
    "\n",
    "import torch\n",
    "from transformers import GPT2LMHeadModel, GPT2Tokenizer\n",
    "\n",
    "# Load pre-trained model tokenizer (vocabulary)\n",
    "tokenizer = GPT2Tokenizer.from_pretrained('gpt2')\n",
    "\n",
    "# Load pre-trained model\n",
    "model = GPT2LMHeadModel.from_pretrained('gpt2')\n",
    "\n",
    "# Input Text to GPT-2: provide context to GPT-2 for generating the recipe. The format & content can be adjusted based on how we want GPT-2 to expand the recipe information.\n",
    "text = f\"Ingredients: {', '.join(user_ingredients)}; Recipe: {best_recipe['title']} - Directions:\"\n",
    "\n",
    "# Encode the text input\n",
    "indexed_tokens = tokenizer.encode(text, add_special_tokens=True)\n",
    "tokens_tensor = torch.tensor([indexed_tokens])\n",
    "\n",
    "# Generate a text using the model\n",
    "model.eval()\n",
    "with torch.no_grad():\n",
    "    outputs = model.generate(tokens_tensor, max_length=300, num_beams=5, no_repeat_ngram_size=2, early_stopping=True)\n",
    "\n",
    "generated_text = tokenizer.decode(outputs[0], skip_special_tokens=True)\n",
    "print(generated_text)\n"
   ]
  },
  {
   "cell_type": "markdown",
   "metadata": {
    "collapsed": false
   },
   "source": [
    "## Training\n",
    "- Model compilation\n",
    "- Model training\n",
    "- Hyperparameter tuning\n",
    "\n",
    "## Evaluation\n",
    "- Model evaluation metrics\n",
    "- Visualization of results\n",
    "\n",
    "## Conclusion\n",
    "- Summary of findings\n",
    "- Future work"
   ]
  },
  {
   "cell_type": "code",
   "execution_count": null,
   "metadata": {
    "collapsed": false
   },
   "outputs": [],
   "source": []
  }
 ],
 "metadata": {
  "kernelspec": {
   "display_name": "Python 3",
   "language": "python",
   "name": "python3"
  },
  "language_info": {
   "codemirror_mode": {
    "name": "ipython",
    "version": 3
   },
   "file_extension": ".py",
   "mimetype": "text/x-python",
   "name": "python",
   "nbconvert_exporter": "python",
   "pygments_lexer": "ipython3",
   "version": "3.8.19"
  }
 },
 "nbformat": 4,
 "nbformat_minor": 2
}
