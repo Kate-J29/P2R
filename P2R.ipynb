{
 "cells": [
  {
   "cell_type": "code",
   "execution_count": 1,
   "outputs": [
    {
     "name": "stdout",
     "output_type": "stream",
     "text": [
      "Python version\n",
      "3.8.19 (default, Mar 20 2024, 15:27:52) \n",
      "[Clang 14.0.6 ]\n",
      "Version info.\n",
      "sys.version_info(major=3, minor=8, micro=19, releaselevel='final', serial=0)\n"
     ]
    }
   ],
   "source": [
    "import sys\n",
    "\n",
    "print(\"Python version\")\n",
    "print(sys.version)\n",
    "print(\"Version info.\")\n",
    "print(sys.version_info)"
   ],
   "metadata": {
    "collapsed": false,
    "ExecuteTime": {
     "end_time": "2024-04-22T21:11:30.011794Z",
     "start_time": "2024-04-22T21:11:30.006499Z"
    }
   }
  },
  {
   "cell_type": "markdown",
   "source": [
    "# Plate2Recipe Project\n"
   ],
   "metadata": {
    "collapsed": false
   }
  },
  {
   "cell_type": "markdown",
   "source": [
    "## Data Collection and Preprocessing\n",
    "\n",
    "\n",
    "- Data loading\n",
    "- Data cleaning\n",
    "- Data augmentation"
   ],
   "metadata": {
    "collapsed": false
   }
  },
  {
   "cell_type": "code",
   "execution_count": 6,
   "outputs": [
    {
     "name": "stdout",
     "output_type": "stream",
     "text": [
      "Using downloaded and verified file: ./data/food-101.tar.gz\n",
      "Extracting ./data/food-101.tar.gz to ./data/\n"
     ]
    }
   ],
   "source": [
    "# Load and Transform Data\n",
    "\n",
    "from torchvision import datasets, transforms\n",
    "from torch.utils.data import DataLoader\n",
    "\n",
    "train_transforms = transforms.Compose([\n",
    "    transforms.RandomResizedCrop(224),\n",
    "    transforms.RandomHorizontalFlip(), \n",
    "    transforms.ToTensor(),\n",
    "    transforms.Normalize([0.485, 0.456, 0.406], [0.229, 0.224, 0.225])\n",
    "])\n",
    "\n",
    "valid_transforms = transforms.Compose([\n",
    "    transforms.CenterCrop(224),\n",
    "    transforms.ToTensor(),\n",
    "    transforms.Normalize([0.485, 0.456, 0.406], [0.229, 0.224, 0.225])\n",
    "])\n",
    "\n",
    "root_dir = './data/'\n",
    "\n",
    "train_dataset = datasets.Food101(root=root_dir, split='train', transform=train_transforms, download=True)\n",
    "valid_dataset = datasets.Food101(root=root_dir, split='test', transform=valid_transforms, download=True)\n",
    "\n",
    "train_loader = DataLoader(train_dataset, batch_size=32, shuffle=True)\n",
    "valid_loader = DataLoader(valid_dataset, batch_size=32, shuffle=False)"
   ],
   "metadata": {
    "collapsed": false,
    "ExecuteTime": {
     "end_time": "2024-04-22T22:45:27.211698Z",
     "start_time": "2024-04-22T22:44:18.485527Z"
    }
   }
  },
  {
   "cell_type": "code",
   "execution_count": 18,
   "outputs": [
    {
     "data": {
      "text/plain": "                      title  \\\n0       No-Bake Nut Cookies   \n1     Jewell Ball'S Chicken   \n2               Creamy Corn   \n3             Chicken Funny   \n4      Reeses Cups(Candy)     \n5  Cheeseburger Potato Soup   \n6       Rhubarb Coffee Cake   \n7            Scalloped Corn   \n8      Nolan'S Pepper Steak   \n9           Millionaire Pie   \n\n                                         ingredients  \\\n0  [\"1 c. firmly packed brown sugar\", \"1/2 c. eva...   \n1  [\"1 small jar chipped beef, cut up\", \"4 boned ...   \n2  [\"2 (16 oz.) pkg. frozen corn\", \"1 (8 oz.) pkg...   \n3  [\"1 large whole chicken\", \"2 (10 1/2 oz.) cans...   \n4  [\"1 c. peanut butter\", \"3/4 c. graham cracker ...   \n5  [\"6 baking potatoes\", \"1 lb. of extra lean gro...   \n6  [\"1 1/2 c. sugar\", \"1/2 c. butter\", \"1 egg\", \"...   \n7  [\"1 can cream-style corn\", \"1 can whole kernel...   \n8  [\"1 1/2 lb. round steak (1-inch thick), cut in...   \n9  [\"1 large container Cool Whip\", \"1 large can c...   \n\n                                          directions  \\\n0  [\"In a heavy 2-quart saucepan, mix brown sugar...   \n1  [\"Place chipped beef on bottom of baking dish....   \n2  [\"In a slow cooker, combine all ingredients. C...   \n3  [\"Boil and debone chicken.\", \"Put bite size pi...   \n4  [\"Combine first four ingredients and press in ...   \n5  [\"Wash potatoes; prick several times with a fo...   \n6  [\"Cream sugar and butter.\", \"Add egg and beat ...   \n7  [\"Mix together both cans of corn, crackers, eg...   \n8  [\"Roll steak strips in flour.\", \"Brown in skil...   \n9  [\"Empty Cool Whip into a bowl.\", \"Drain juice ...   \n\n                                              link    source  \\\n0   www.cookbooks.com/Recipe-Details.aspx?id=44874  Gathered   \n1  www.cookbooks.com/Recipe-Details.aspx?id=699419  Gathered   \n2   www.cookbooks.com/Recipe-Details.aspx?id=10570  Gathered   \n3  www.cookbooks.com/Recipe-Details.aspx?id=897570  Gathered   \n4  www.cookbooks.com/Recipe-Details.aspx?id=659239  Gathered   \n5   www.cookbooks.com/Recipe-Details.aspx?id=20115  Gathered   \n6  www.cookbooks.com/Recipe-Details.aspx?id=210288  Gathered   \n7  www.cookbooks.com/Recipe-Details.aspx?id=876969  Gathered   \n8  www.cookbooks.com/Recipe-Details.aspx?id=375254  Gathered   \n9  www.cookbooks.com/Recipe-Details.aspx?id=794547  Gathered   \n\n                                                 NER  \n0  [\"brown sugar\", \"milk\", \"vanilla\", \"nuts\", \"bu...  \n1  [\"beef\", \"chicken breasts\", \"cream of mushroom...  \n2  [\"frozen corn\", \"cream cheese\", \"butter\", \"gar...  \n3  [\"chicken\", \"chicken gravy\", \"cream of mushroo...  \n4  [\"peanut butter\", \"graham cracker crumbs\", \"bu...  \n5  [\"baking potatoes\", \"extra lean ground beef\", ...  \n6  [\"sugar\", \"butter\", \"egg\", \"buttermilk\", \"flou...  \n7  [\"cream-style corn\", \"whole kernel corn\", \"cra...  \n8  [\"tomatoes\", \"water\", \"onions\", \"Worcestershir...  \n9  [\"pineapple\", \"condensed milk\", \"lemons\", \"pec...  ",
      "text/html": "<div>\n<style scoped>\n    .dataframe tbody tr th:only-of-type {\n        vertical-align: middle;\n    }\n\n    .dataframe tbody tr th {\n        vertical-align: top;\n    }\n\n    .dataframe thead th {\n        text-align: right;\n    }\n</style>\n<table border=\"1\" class=\"dataframe\">\n  <thead>\n    <tr style=\"text-align: right;\">\n      <th></th>\n      <th>title</th>\n      <th>ingredients</th>\n      <th>directions</th>\n      <th>link</th>\n      <th>source</th>\n      <th>NER</th>\n    </tr>\n  </thead>\n  <tbody>\n    <tr>\n      <th>0</th>\n      <td>No-Bake Nut Cookies</td>\n      <td>[\"1 c. firmly packed brown sugar\", \"1/2 c. eva...</td>\n      <td>[\"In a heavy 2-quart saucepan, mix brown sugar...</td>\n      <td>www.cookbooks.com/Recipe-Details.aspx?id=44874</td>\n      <td>Gathered</td>\n      <td>[\"brown sugar\", \"milk\", \"vanilla\", \"nuts\", \"bu...</td>\n    </tr>\n    <tr>\n      <th>1</th>\n      <td>Jewell Ball'S Chicken</td>\n      <td>[\"1 small jar chipped beef, cut up\", \"4 boned ...</td>\n      <td>[\"Place chipped beef on bottom of baking dish....</td>\n      <td>www.cookbooks.com/Recipe-Details.aspx?id=699419</td>\n      <td>Gathered</td>\n      <td>[\"beef\", \"chicken breasts\", \"cream of mushroom...</td>\n    </tr>\n    <tr>\n      <th>2</th>\n      <td>Creamy Corn</td>\n      <td>[\"2 (16 oz.) pkg. frozen corn\", \"1 (8 oz.) pkg...</td>\n      <td>[\"In a slow cooker, combine all ingredients. C...</td>\n      <td>www.cookbooks.com/Recipe-Details.aspx?id=10570</td>\n      <td>Gathered</td>\n      <td>[\"frozen corn\", \"cream cheese\", \"butter\", \"gar...</td>\n    </tr>\n    <tr>\n      <th>3</th>\n      <td>Chicken Funny</td>\n      <td>[\"1 large whole chicken\", \"2 (10 1/2 oz.) cans...</td>\n      <td>[\"Boil and debone chicken.\", \"Put bite size pi...</td>\n      <td>www.cookbooks.com/Recipe-Details.aspx?id=897570</td>\n      <td>Gathered</td>\n      <td>[\"chicken\", \"chicken gravy\", \"cream of mushroo...</td>\n    </tr>\n    <tr>\n      <th>4</th>\n      <td>Reeses Cups(Candy)</td>\n      <td>[\"1 c. peanut butter\", \"3/4 c. graham cracker ...</td>\n      <td>[\"Combine first four ingredients and press in ...</td>\n      <td>www.cookbooks.com/Recipe-Details.aspx?id=659239</td>\n      <td>Gathered</td>\n      <td>[\"peanut butter\", \"graham cracker crumbs\", \"bu...</td>\n    </tr>\n    <tr>\n      <th>5</th>\n      <td>Cheeseburger Potato Soup</td>\n      <td>[\"6 baking potatoes\", \"1 lb. of extra lean gro...</td>\n      <td>[\"Wash potatoes; prick several times with a fo...</td>\n      <td>www.cookbooks.com/Recipe-Details.aspx?id=20115</td>\n      <td>Gathered</td>\n      <td>[\"baking potatoes\", \"extra lean ground beef\", ...</td>\n    </tr>\n    <tr>\n      <th>6</th>\n      <td>Rhubarb Coffee Cake</td>\n      <td>[\"1 1/2 c. sugar\", \"1/2 c. butter\", \"1 egg\", \"...</td>\n      <td>[\"Cream sugar and butter.\", \"Add egg and beat ...</td>\n      <td>www.cookbooks.com/Recipe-Details.aspx?id=210288</td>\n      <td>Gathered</td>\n      <td>[\"sugar\", \"butter\", \"egg\", \"buttermilk\", \"flou...</td>\n    </tr>\n    <tr>\n      <th>7</th>\n      <td>Scalloped Corn</td>\n      <td>[\"1 can cream-style corn\", \"1 can whole kernel...</td>\n      <td>[\"Mix together both cans of corn, crackers, eg...</td>\n      <td>www.cookbooks.com/Recipe-Details.aspx?id=876969</td>\n      <td>Gathered</td>\n      <td>[\"cream-style corn\", \"whole kernel corn\", \"cra...</td>\n    </tr>\n    <tr>\n      <th>8</th>\n      <td>Nolan'S Pepper Steak</td>\n      <td>[\"1 1/2 lb. round steak (1-inch thick), cut in...</td>\n      <td>[\"Roll steak strips in flour.\", \"Brown in skil...</td>\n      <td>www.cookbooks.com/Recipe-Details.aspx?id=375254</td>\n      <td>Gathered</td>\n      <td>[\"tomatoes\", \"water\", \"onions\", \"Worcestershir...</td>\n    </tr>\n    <tr>\n      <th>9</th>\n      <td>Millionaire Pie</td>\n      <td>[\"1 large container Cool Whip\", \"1 large can c...</td>\n      <td>[\"Empty Cool Whip into a bowl.\", \"Drain juice ...</td>\n      <td>www.cookbooks.com/Recipe-Details.aspx?id=794547</td>\n      <td>Gathered</td>\n      <td>[\"pineapple\", \"condensed milk\", \"lemons\", \"pec...</td>\n    </tr>\n  </tbody>\n</table>\n</div>"
     },
     "execution_count": 18,
     "metadata": {},
     "output_type": "execute_result"
    }
   ],
   "source": [
    "import pandas as pd\n",
    "\n",
    "recipes = pd.read_csv('./data/full_dataset.csv', encoding='UTF-8')\n",
    "recipes = recipes.drop(recipes.columns[0], axis=1)\n",
    "recipes.head(10)"
   ],
   "metadata": {
    "collapsed": false,
    "ExecuteTime": {
     "end_time": "2024-04-23T00:07:28.164541Z",
     "start_time": "2024-04-23T00:07:08.146103Z"
    }
   }
  },
  {
   "cell_type": "markdown",
   "source": [
    "## Model Development\n",
    "- CNN for Image Processing\n",
    "- NLP for Recipe Generation\n"
   ],
   "metadata": {
    "collapsed": false
   }
  },
  {
   "cell_type": "markdown",
   "source": [
    "### NLP Model\n",
    "- Assume list of ingredients is provided, we can use this to generate the recipe. \n",
    "- Match input list of ingredients with the ingredients in the dataset and generate the recipe\n",
    "- The chosen recipe will be the one with the highest similarity score"
   ],
   "metadata": {
    "collapsed": false
   }
  },
  {
   "cell_type": "code",
   "execution_count": 54,
   "outputs": [
    {
     "name": "stdout",
     "output_type": "stream",
     "text": [
      "Best Matching Recipe: Spachcocked Chicken\n",
      "Ingredients: [\"1 Whole Chicken\", \"2 tbsp Olive Oil\", \"2 tsp Garlic Powder\", \"2 tsp Onion Powder\", \"1 tsp Salt\", \"1/2 tsp Pepper\"]\n",
      "Directions: [\"Set up smoker with your favorite wood.\", \"( I perfer hickory)Bring to around 350 - 400F.\", \"Use poultry shears or kitchen shears and cut out chickens spine.\", \"Turn over and press down on breast bone until flat and insert meat skewers to hold everything in place ( like the picture)\", \"In a bowl mix together olive oil and seasoning then brush onto prepared chicken.\", \"Smoke for about 2 hours.\", \"Dish up and enjoy.\"]\n"
     ]
    }
   ],
   "source": [
    "from sklearn.feature_extraction.text import TfidfVectorizer\n",
    "from sklearn.metrics.pairwise import cosine_similarity\n",
    "\n",
    "# Assume 'user_ingredients' list is already defined\n",
    "user_ingredients = ['chicken', 'onion', 'garlic', 'salt', 'pepper', 'olive oil']\n",
    "\n",
    "# Preprocess data\n",
    "def preprocess(ingredients):\n",
    "    return [' '.join(eval(ing)).lower().replace('[^a-z\\s]', '') for ing in ingredients]\n",
    "\n",
    "# Vectorize ingredients\n",
    "vectorizer = TfidfVectorizer()\n",
    "recipe_ingredients = preprocess(recipes['NER'])\n",
    "recipe_tfidf = vectorizer.fit_transform(recipe_ingredients)\n",
    "\n",
    "user_ingredients_string = ' '.join(user_ingredients).lower()\n",
    "user_tfidf = vectorizer.transform([user_ingredients_string])\n",
    "\n",
    "# Compute similarity\n",
    "similarity_scores = cosine_similarity(user_tfidf, recipe_tfidf)\n",
    "\n",
    "# Select the best matching recipe\n",
    "best_match_index = similarity_scores.argmax()\n",
    "best_recipe = recipes.iloc[best_match_index]\n",
    "\n",
    "print(\"Best Matching Recipe:\", best_recipe['title'])\n",
    "print(\"Ingredients:\", best_recipe['ingredients'])\n",
    "print(\"Directions:\", best_recipe['directions'])"
   ],
   "metadata": {
    "collapsed": false,
    "ExecuteTime": {
     "end_time": "2024-04-23T01:21:56.382301Z",
     "start_time": "2024-04-23T01:21:21.146022Z"
    }
   }
  },
  {
   "cell_type": "markdown",
   "source": [
    "## Training\n",
    "- Model compilation\n",
    "- Model training\n",
    "- Hyperparameter tuning\n",
    "\n",
    "## Evaluation\n",
    "- Model evaluation metrics\n",
    "- Visualization of results\n",
    "\n",
    "## Conclusion\n",
    "- Summary of findings\n",
    "- Future work"
   ],
   "metadata": {
    "collapsed": false
   }
  }
 ],
 "metadata": {
  "kernelspec": {
   "name": "conda-env-p2r-py",
   "language": "python",
   "display_name": "Python [conda env:p2r] *"
  },
  "language_info": {
   "codemirror_mode": {
    "name": "ipython",
    "version": 3
   },
   "file_extension": ".py",
   "mimetype": "text/x-python",
   "name": "python",
   "nbconvert_exporter": "python",
   "pygments_lexer": "ipython3",
   "version": "3.8.19"
  }
 },
 "nbformat": 4,
 "nbformat_minor": 2
}
